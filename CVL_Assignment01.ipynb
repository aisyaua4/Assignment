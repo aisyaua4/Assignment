#Impor library yang dibutuhkan
import cv2
import numpy as np
import matplotlib.pyplot as plt
import os

#Didefinisikan fungsi untuk menampilkan image input dan menyimpan image output
def show_and_save(img_input, img_output, output_path, title_input='Original Image', title_output='Enhanced Image'):
  #Setting image dan histogram
  fig, axes = plt.subplots(2, 2, figsize=(10,8))

  #Image
  axes[0,0].imshow(cv2.cvtColor(img_input, cv2.COLOR_BGR2RGB))
  axes[0,0].set_title(title_input)
  axes[0,0].axis('off')
  axes[0,1].imshow(cv2.cvtColor(img_output, cv2.COLOR_BGR2RGB))
  axes[0,1].set_title(title_output)
  axes[0,1].axis('off')

  #Histogram
  gray_input = cv2.cvtColor(img_input, cv2.COLOR_BGR2GRAY)
  gray_output = cv2.cvtColor(img_output, cv2.COLOR_BGR2GRAY)
  axes[1,0].hist(gray_input.flatten(), bins=256, color='gray')
  axes[1,0].set_title('Histogram (Original)')
  axes[1,1].hist(gray_output.flatten(), bins=256, color='gray')
  axes[1,1].set_title('Histogram (Enhanced)')
  plt.tight_layout()
  plt.show()

  #Simpan hasil output
  cv2.imwrite(output_path, img_output)
  print(f"Hasil disimpan di : {output_path}")

#Cek folder output
os.makedirs('output', exist_ok=True)  #Output disimpan di folder output ini

# Blurred Image (Sharpening)
img_blur = cv2.imread('blur.jpg')
if img_blur is not None:
  kernel_sharpen = np.array([[0, -1, 0], [-1, 5.2, -1], [0, -1, 0]])
  img_sharp = cv2.filter2D(img_blur, -1, kernel_sharpen)
  print("Image Enhancement : Blurred Image")
  show_and_save(img_blur, img_sharp, 'output/enhanced_blur.jpg', 'Original Image', 'Enhanced Image')
else:
  print("Error loading image")

#Dark Image (Histogram Equalization)
img_dark = cv2.imread('dark.jpg')
if img_dark is not None:
  gray = cv2.cvtColor(img_dark, cv2.COLOR_BGR2GRAY)
  eq = cv2.equalizeHist(gray)
  img_eq = cv2.cvtColor(eq, cv2.COLOR_GRAY2BGR)
  print("Image Enhancement : Dark Image")
  show_and_save(img_dark, img_eq, 'output/enhanced_dark.jpg', 'Original Image', 'Enhanced Image')
else:
  print("Error loading image")

#Bright Image (Gamma Correction)
img_bright = cv2.imread('bright.jpg')
if img_bright is not None:
  gamma = 0.5
  inv_gamma = 1.0 / gamma
  table = np.array([((i / 255.0) ** inv_gamma) * 255 for i in np.arange(0, 256)]).astype('uint8')
  img_gamma = cv2.LUT(img_bright, table)
  print("Image Enhancement : Bright Image")
  show_and_save(img_bright, img_gamma, 'output/enhanced_bright.jpg', 'Original Image', 'Enhanced Image')
else:
  print("Error loading image")

#Low Contrast Image (CLAHE)
img_lowcont = cv2.imread('low.jpg')
if img_lowcont is not None:
  gray = cv2.cvtColor(img_lowcont, cv2.COLOR_BGR2GRAY)
  clahe = cv2.createCLAHE(clipLimit=2.0, tileGridSize=(8,8))
  cl1 = clahe.apply(gray)
  img_clahe = cv2.cvtColor(cl1, cv2.COLOR_GRAY2BGR)
  print("Image Enhancement : Low Contrast Image")
  show_and_save(img_lowcont, img_clahe, 'output/enhanced_lowcontrast.jpg', 'Original Image', 'Enhanced Image')
else:
  print("Error loading image")

#Noise Image (Denoising)
img_noisy = cv2.imread('noise.jpg')
if img_noisy is not None:
  img_denoised = cv2.fastNlMeansDenoisingColored(img_noisy, None, 10, 10, 7, 21)
  print("Image Enhancement : Noise Image")
  show_and_save(img_noisy, img_denoised, 'output/enhanced_noise.jpg', 'Original Image', 'Enhanced Image')
else:
  print("Error loading image")

#Low Resolution Image (Upsampling Bicubic)
img_lowres = cv2.imread('lowres.jpg')
if img_lowres is not None:
  img_upsampled = cv2.resize(img_lowres, None, fx=2, fy=2, interpolation=cv2.INTER_CUBIC)
  print("Image Enhancement : Low Resolution Image")
  show_and_save(img_lowres, img_upsampled, 'output/enhanced_lowres.jpg', 'Original Image', 'Enhanced Image')
else:
  print("Error loading image")

#Too Sharp Image (Gaussian Blur)
img_toosharp = cv2.imread('toosharp.jpeg')
if img_toosharp is not None:
  img_blurred = cv2.GaussianBlur(img_toosharp, (3,3), 1)
  print("Image Enhancement : Too Sharp Image")
  show_and_save(img_toosharp, img_blurred, 'output/enhanced_toosharp.jpg', 'Original Image', 'Enhanced Image')
else:
  print("Error loading image")

#Dark Object on Dark Background (Log Transform)
img_darkobj = cv2.imread('darkobj.jpg')
if img_darkobj is not None:
  gray = cv2.cvtColor(img_darkobj, cv2.COLOR_BGR2GRAY)
  #Mencegah kemungkinan log(0) atau log(negative)
  max_val = np.max(gray)
  if max_val > 0:
    c = 255 / np.log(1 + max_val)
    log_img = c * np.log(1 + gray.astype(np.float32))
    log_img = np.clip(log_img, 0, 255).astype(np.uint8)
    img_log = cv2.cvtColor(log_img, cv2.COLOR_GRAY2BGR)
    print("Image Enhancement : Dark Object on Dark Background Image")
    show_and_save(img_darkobj, img_log, 'output/enhanced_darkobject.jpg', 'Original Image', 'Enhanced Image')
  else:
    print("Tidak bisa diproses karena image sangat gelap")
else:
  print("Error loading image")

#Bright Object on Bright Background (CLAHE)
img_brightobj = cv2.imread('brightobject.jpg')
if img_brightobj is not None:
  gray = cv2.cvtColor(img_brightobj, cv2.COLOR_BGR2GRAY)
  clahe = cv2.createCLAHE(clipLimit=2.5, tileGridSize=(8,8))
  cl1 = clahe.apply(gray)
  img_clahe = cv2.cvtColor(cl1, cv2.COLOR_GRAY2BGR)
  print("Image Enhancement : Bright Object on Bright Background Image")
  show_and_save(img_brightobj, img_clahe, 'output/enhanced_brightobject.jpg', 'Original Image', 'Enhanced Image')
else:
  print("Error loading image")
